{
 "cells": [
  {
   "cell_type": "code",
   "execution_count": 1,
   "id": "9e7f94c5",
   "metadata": {},
   "outputs": [],
   "source": [
    "import pandas as pd\n",
    "import numpy as np\n",
    "import requests\n",
    "import bs4\n",
    "import json\n",
    "import os"
   ]
  },
  {
   "cell_type": "code",
   "execution_count": 2,
   "id": "e217e8c4",
   "metadata": {},
   "outputs": [],
   "source": [
    "from shapely.geometry import Point\n",
    "import geopandas as gpd   "
   ]
  },
  {
   "cell_type": "markdown",
   "id": "fdbe5058-190e-418d-a102-16da0539e9c2",
   "metadata": {
    "tags": []
   },
   "source": [
    "# Importar Modulo existente"
   ]
  },
  {
   "cell_type": "markdown",
   "id": "a543fa88-f731-45fc-9060-d23f5885c044",
   "metadata": {},
   "source": [
    "## Importando el modulo de geo_calcs"
   ]
  },
  {
   "cell_type": "code",
   "execution_count": 3,
   "id": "bae29f75-53dd-4df0-a683-492f0d1e3389",
   "metadata": {},
   "outputs": [],
   "source": [
    "import geo_calculations as geo"
   ]
  },
  {
   "cell_type": "markdown",
   "id": "34a49322-9adb-473f-a8f1-2c3fa9cf8123",
   "metadata": {},
   "source": [
    "# Cargando data"
   ]
  },
  {
   "cell_type": "markdown",
   "id": "001f9cda-ae95-4acd-bbb5-ce7964668979",
   "metadata": {},
   "source": [
    "## Centros Culturales"
   ]
  },
  {
   "cell_type": "code",
   "execution_count": 4,
   "id": "14c2c5f0",
   "metadata": {},
   "outputs": [],
   "source": [
    "centros_culturales = requests.get('https://datos.madrid.es/egob/catalogo/200304-0-centros-culturales.json')\n",
    "centros_culturales = centros_culturales.json()\n",
    "df_centros_culturales = pd.json_normalize(centros_culturales['@graph'])\n",
    "df_centros_culturales = pd.DataFrame(df_centros_culturales[[\"organization.organization-name\" , \"address.street-address\" , \"location.latitude\" , \"location.longitude\"]])\n",
    "df_centros_culturales = df_centros_culturales.assign(Tipo_Centro = \"Centros culturales\")"
   ]
  },
  {
   "cell_type": "markdown",
   "id": "fdaddfe1-1c6c-4cab-a6e5-182e37f80324",
   "metadata": {},
   "source": [
    "## Museos"
   ]
  },
  {
   "cell_type": "code",
   "execution_count": 5,
   "id": "be3f30af",
   "metadata": {},
   "outputs": [],
   "source": [
    "museos = requests.get('https://datos.madrid.es/egob/catalogo/201132-0-museos.json')\n",
    "museos = museos.json()\n",
    "df_museos = pd.json_normalize(museos['@graph'])\n",
    "df_museos = pd.DataFrame(df_museos[[\"organization.organization-name\" , \"address.street-address\" , \"location.latitude\" , \"location.longitude\"]])\n",
    "df_museos = df_museos.assign(Tipo_Centro = \"Museos\")\n",
    "#df_museos[\"coordinadas_mercator\"] = df_museos.apply(lambda x : to_mercator(x[\"location.latitude\"],x[\"location.longitude\"]),axis=1)\n",
    "#df_museos"
   ]
  },
  {
   "cell_type": "markdown",
   "id": "eb515b41-f63e-41e0-9cfe-90daba6d4c5e",
   "metadata": {},
   "source": [
    "## Concatenando y calculando las coordenadas en mercator"
   ]
  },
  {
   "cell_type": "code",
   "execution_count": 6,
   "id": "45163562",
   "metadata": {},
   "outputs": [],
   "source": [
    "df_museo_cc = pd.concat([df_centros_culturales , df_museos])\n",
    "df_museo_cc[\"coordinadas_mercator\"] = df_museo_cc.apply(lambda x : geo.to_mercator(x[\"location.latitude\"],x[\"location.longitude\"]),axis=1)"
   ]
  },
  {
   "cell_type": "markdown",
   "id": "915700aa-02c2-4383-821b-f1e232fa6a75",
   "metadata": {},
   "source": [
    "Ejemplo de las primeras 5 entradas.."
   ]
  },
  {
   "cell_type": "code",
   "execution_count": 10,
   "id": "b583fbb6-450e-476f-af8c-854bf9a5ca08",
   "metadata": {},
   "outputs": [
    {
     "data": {
      "text/html": [
       "<div>\n",
       "<style scoped>\n",
       "    .dataframe tbody tr th:only-of-type {\n",
       "        vertical-align: middle;\n",
       "    }\n",
       "\n",
       "    .dataframe tbody tr th {\n",
       "        vertical-align: top;\n",
       "    }\n",
       "\n",
       "    .dataframe thead th {\n",
       "        text-align: right;\n",
       "    }\n",
       "</style>\n",
       "<table border=\"1\" class=\"dataframe\">\n",
       "  <thead>\n",
       "    <tr style=\"text-align: right;\">\n",
       "      <th></th>\n",
       "      <th>organization.organization-name</th>\n",
       "      <th>address.street-address</th>\n",
       "      <th>location.latitude</th>\n",
       "      <th>location.longitude</th>\n",
       "      <th>Tipo_Centro</th>\n",
       "      <th>coordinadas_mercator</th>\n",
       "    </tr>\n",
       "  </thead>\n",
       "  <tbody>\n",
       "    <tr>\n",
       "      <th>0</th>\n",
       "      <td>Auditorio Carmen Laforet (Ciudad Lineal)</td>\n",
       "      <td>CALLE JAZMIN 46</td>\n",
       "      <td>40.479608</td>\n",
       "      <td>-3.665799</td>\n",
       "      <td>Centros culturales</td>\n",
       "      <td>POINT (4506169.379345033 -408353.5729058877)</td>\n",
       "    </tr>\n",
       "    <tr>\n",
       "      <th>1</th>\n",
       "      <td>Auditorio al aire libre. Parque del Calero</td>\n",
       "      <td>CALLE JOSE DEL HIERRO 3</td>\n",
       "      <td>40.436300</td>\n",
       "      <td>-3.650410</td>\n",
       "      <td>Centros culturales</td>\n",
       "      <td>POINT (4501348.276905228 -406636.9344770753)</td>\n",
       "    </tr>\n",
       "    <tr>\n",
       "      <th>2</th>\n",
       "      <td>Auditorio y sala de exposiciones Paco de Lucía...</td>\n",
       "      <td>AVENIDA LAS AGUILAS 2 A</td>\n",
       "      <td>40.385132</td>\n",
       "      <td>-3.761912</td>\n",
       "      <td>Centros culturales</td>\n",
       "      <td>POINT (4495652.310977291 -419075.2884951149)</td>\n",
       "    </tr>\n",
       "    <tr>\n",
       "      <th>3</th>\n",
       "      <td>Centro Comunitario Casino de la Reina</td>\n",
       "      <td>CALLE CASINO 3</td>\n",
       "      <td>40.406793</td>\n",
       "      <td>-3.704609</td>\n",
       "      <td>Centros culturales</td>\n",
       "      <td>POINT (4498063.582233449 -412682.7875456674)</td>\n",
       "    </tr>\n",
       "    <tr>\n",
       "      <th>4</th>\n",
       "      <td>Centro Cultural - Centro Socio Cultural Villa ...</td>\n",
       "      <td>CALLE BOTICA 7 y 10</td>\n",
       "      <td>40.473402</td>\n",
       "      <td>-3.578523</td>\n",
       "      <td>Centros culturales</td>\n",
       "      <td>POINT (4505478.547905593 -398618.6384765698)</td>\n",
       "    </tr>\n",
       "  </tbody>\n",
       "</table>\n",
       "</div>"
      ],
      "text/plain": [
       "                      organization.organization-name   address.street-address  \\\n",
       "0           Auditorio Carmen Laforet (Ciudad Lineal)          CALLE JAZMIN 46   \n",
       "1         Auditorio al aire libre. Parque del Calero  CALLE JOSE DEL HIERRO 3   \n",
       "2  Auditorio y sala de exposiciones Paco de Lucía...  AVENIDA LAS AGUILAS 2 A   \n",
       "3              Centro Comunitario Casino de la Reina           CALLE CASINO 3   \n",
       "4  Centro Cultural - Centro Socio Cultural Villa ...      CALLE BOTICA 7 y 10   \n",
       "\n",
       "   location.latitude  location.longitude         Tipo_Centro  \\\n",
       "0          40.479608           -3.665799  Centros culturales   \n",
       "1          40.436300           -3.650410  Centros culturales   \n",
       "2          40.385132           -3.761912  Centros culturales   \n",
       "3          40.406793           -3.704609  Centros culturales   \n",
       "4          40.473402           -3.578523  Centros culturales   \n",
       "\n",
       "                           coordinadas_mercator  \n",
       "0  POINT (4506169.379345033 -408353.5729058877)  \n",
       "1  POINT (4501348.276905228 -406636.9344770753)  \n",
       "2  POINT (4495652.310977291 -419075.2884951149)  \n",
       "3  POINT (4498063.582233449 -412682.7875456674)  \n",
       "4  POINT (4505478.547905593 -398618.6384765698)  "
      ]
     },
     "execution_count": 10,
     "metadata": {},
     "output_type": "execute_result"
    }
   ],
   "source": [
    "df_museo_cc.head()"
   ]
  },
  {
   "cell_type": "code",
   "execution_count": 13,
   "id": "9c447736",
   "metadata": {},
   "outputs": [],
   "source": [
    "#Aca simplemente cambie el path\n",
    "df_bicimadstations = pd.read_json(\"./data/bicimadstations.json\")\n",
    "#aca tenian un bug grave, estaban asugnando longitud a latitud y viceversa\n",
    "lon =[float(index[\"geometry_coordinates\"].split(\",\")[0].replace(\"[\", \"\")) for row, index in df_bicimadstations.iterrows()]\n",
    "lat = [float(index[\"geometry_coordinates\"].split(\",\")[1].replace(\"]\",\"\")) for row, index in df_bicimadstations.iterrows()]\n",
    "df_bicimadstations[\"latitud\"] = lat\n",
    "df_bicimadstations[\"longitud\"] = lon\n",
    "df_bicimadstations = pd.DataFrame(df_bicimadstations[[\"name\" , \"address\" , \"latitud\" , \"longitud\"]])\n",
    "#notar que he utilizado la funcion del modulo `geo_calculations`, el cual importe como \"geo\"\n",
    "df_bicimadstations[\"coordinadas_mercator\"] = df_bicimadstations.apply(lambda x : geo.to_mercator(x[\"latitud\"],x[\"longitud\"]),axis=1)"
   ]
  },
  {
   "cell_type": "markdown",
   "id": "b3c4fa87-bcaf-4850-b9db-fc530c0db0cc",
   "metadata": {},
   "source": [
    "# Distancia para un solo lugar"
   ]
  },
  {
   "cell_type": "code",
   "execution_count": 14,
   "id": "0490aec8-fe63-466a-9e17-e890da6301eb",
   "metadata": {},
   "outputs": [],
   "source": [
    "def bici_mas_cercana_alternative(data_lugar, df_bicis):\n",
    "    \"\"\"\n",
    "    Args:\n",
    "        data_lugar: un diccionario/objecto con el museo/centro\n",
    "        df_bicis: un dataframe con la data de bicimadrid\n",
    "    \"\"\"\n",
    "    df_bicis[\"distancia_total\"] = df_bicis.apply(lambda x : x['coordinadas_mercator'].distance(data_lugar['coordinadas_mercator']),axis=1)\n",
    "    return df_bicis.sort_values(by = \"distancia_total\", ascending = True).iloc[0]"
   ]
  },
  {
   "cell_type": "markdown",
   "id": "d4076cb5-7b68-468c-ac32-febea55e4de2",
   "metadata": {},
   "source": [
    "## Probando"
   ]
  },
  {
   "cell_type": "code",
   "execution_count": 18,
   "id": "90985711-a252-4899-867e-222c756326db",
   "metadata": {},
   "outputs": [
    {
     "name": "stdin",
     "output_type": "stream",
     "text": [
      "Introduzca lugar Auditorio al aire libre. Parque del Calero\n"
     ]
    },
    {
     "data": {
      "text/plain": [
       "name                                                 C.D. Concepción\n",
       "address                                   Calle Jose del Hierro nº 5\n",
       "latitud                                                    40.437151\n",
       "longitud                                                   -3.648359\n",
       "coordinadas_mercator    POINT (4501443.047273415 -406408.1503400214)\n",
       "distancia_total                                           247.636031\n",
       "Name: 231, dtype: object"
      ]
     },
     "execution_count": 18,
     "metadata": {},
     "output_type": "execute_result"
    }
   ],
   "source": [
    "i = str(input(\"Introduzca lugar\"))\n",
    "a = df_museo_cc[df_museo_cc[\"organization.organization-name\"] == i].iloc[0]\n",
    "bici_mas_cercana_alternative(a, df_bicimadstations.copy())"
   ]
  },
  {
   "cell_type": "code",
   "execution_count": 26,
   "id": "354930e4-dfe5-4a67-993f-7f97cc47bed9",
   "metadata": {},
   "outputs": [
    {
     "data": {
      "text/html": [
       "<div>\n",
       "<style scoped>\n",
       "    .dataframe tbody tr th:only-of-type {\n",
       "        vertical-align: middle;\n",
       "    }\n",
       "\n",
       "    .dataframe tbody tr th {\n",
       "        vertical-align: top;\n",
       "    }\n",
       "\n",
       "    .dataframe thead th {\n",
       "        text-align: right;\n",
       "    }\n",
       "</style>\n",
       "<table border=\"1\" class=\"dataframe\">\n",
       "  <thead>\n",
       "    <tr style=\"text-align: right;\">\n",
       "      <th></th>\n",
       "      <th>organization.organization-name</th>\n",
       "      <th>address.street-address</th>\n",
       "      <th>location.latitude</th>\n",
       "      <th>location.longitude</th>\n",
       "      <th>Tipo_Centro</th>\n",
       "      <th>coordinadas_mercator</th>\n",
       "      <th>bici_name</th>\n",
       "      <th>bici_address</th>\n",
       "      <th>bici_lat</th>\n",
       "      <th>bici_lon</th>\n",
       "      <th>bici_coordinadas_mercator</th>\n",
       "      <th>bici_dist_total</th>\n",
       "    </tr>\n",
       "  </thead>\n",
       "  <tbody>\n",
       "    <tr>\n",
       "      <th>1</th>\n",
       "      <td>Auditorio al aire libre. Parque del Calero</td>\n",
       "      <td>CALLE JOSE DEL HIERRO 3</td>\n",
       "      <td>40.4363</td>\n",
       "      <td>-3.65041</td>\n",
       "      <td>Centros culturales</td>\n",
       "      <td>POINT (4501443.047273415 -406408.1503400214)</td>\n",
       "      <td>C.D. Concepción</td>\n",
       "      <td>Calle Jose del Hierro nº 5</td>\n",
       "      <td>40.437151</td>\n",
       "      <td>-3.648359</td>\n",
       "      <td>POINT (4501443.047273415 -406408.1503400214)</td>\n",
       "      <td>247.636031</td>\n",
       "    </tr>\n",
       "  </tbody>\n",
       "</table>\n",
       "</div>"
      ],
      "text/plain": [
       "               organization.organization-name   address.street-address  \\\n",
       "1  Auditorio al aire libre. Parque del Calero  CALLE JOSE DEL HIERRO 3   \n",
       "\n",
       "   location.latitude  location.longitude         Tipo_Centro  \\\n",
       "1            40.4363            -3.65041  Centros culturales   \n",
       "\n",
       "                           coordinadas_mercator        bici_name  \\\n",
       "1  POINT (4501443.047273415 -406408.1503400214)  C.D. Concepción   \n",
       "\n",
       "                 bici_address   bici_lat  bici_lon  \\\n",
       "1  Calle Jose del Hierro nº 5  40.437151 -3.648359   \n",
       "\n",
       "                      bici_coordinadas_mercator  bici_dist_total  \n",
       "1  POINT (4501443.047273415 -406408.1503400214)       247.636031  "
      ]
     },
     "execution_count": 26,
     "metadata": {},
     "output_type": "execute_result"
    }
   ],
   "source": []
  },
  {
   "cell_type": "markdown",
   "id": "69ba41d9-cdb5-4448-a3b8-74f0dfd2341e",
   "metadata": {},
   "source": [
    "## Otra prueba, correr para un centro aleatorio"
   ]
  },
  {
   "cell_type": "code",
   "execution_count": 15,
   "id": "55c66ff3-187b-4bca-9727-d6fa934942d8",
   "metadata": {},
   "outputs": [
    {
     "data": {
      "text/plain": [
       "name                                                         Legazpi\n",
       "address                                           Calle Bolívar nº 3\n",
       "latitud                                                    40.391472\n",
       "longitud                                                   -3.694194\n",
       "coordinadas_mercator    POINT (4496358.117694666 -411521.0631924719)\n",
       "distancia_total                                           185.821094\n",
       "Name: 179, dtype: object"
      ]
     },
     "execution_count": 15,
     "metadata": {},
     "output_type": "execute_result"
    }
   ],
   "source": [
    "bici_mas_cercana_alternative(df_museo_cc.sample(n=1).iloc[0], df_bicimadstations.copy())"
   ]
  },
  {
   "cell_type": "markdown",
   "id": "35feba94-3e5c-4196-b9c1-858f74d862d4",
   "metadata": {},
   "source": [
    "# Calculando Para todas las organizaciones a la vez"
   ]
  },
  {
   "cell_type": "code",
   "execution_count": 16,
   "id": "422334d6-cd96-445a-bc8e-6126882ae198",
   "metadata": {},
   "outputs": [],
   "source": [
    "df_museo_cc[['bici_name','bici_address','bici_lat','bici_lon','bici_coordinadas_mercator','bici_dist_total']] = df_museo_cc.apply(lambda x: bici_mas_cercana_alternative(x, df_bicimadstations.copy()), axis=1)"
   ]
  },
  {
   "cell_type": "code",
   "execution_count": 17,
   "id": "09f98c0e-f485-46b3-8528-3f0d7d95a1d6",
   "metadata": {},
   "outputs": [
    {
     "data": {
      "text/html": [
       "<div>\n",
       "<style scoped>\n",
       "    .dataframe tbody tr th:only-of-type {\n",
       "        vertical-align: middle;\n",
       "    }\n",
       "\n",
       "    .dataframe tbody tr th {\n",
       "        vertical-align: top;\n",
       "    }\n",
       "\n",
       "    .dataframe thead th {\n",
       "        text-align: right;\n",
       "    }\n",
       "</style>\n",
       "<table border=\"1\" class=\"dataframe\">\n",
       "  <thead>\n",
       "    <tr style=\"text-align: right;\">\n",
       "      <th></th>\n",
       "      <th>organization.organization-name</th>\n",
       "      <th>address.street-address</th>\n",
       "      <th>location.latitude</th>\n",
       "      <th>location.longitude</th>\n",
       "      <th>Tipo_Centro</th>\n",
       "      <th>coordinadas_mercator</th>\n",
       "      <th>bici_name</th>\n",
       "      <th>bici_address</th>\n",
       "      <th>bici_lat</th>\n",
       "      <th>bici_lon</th>\n",
       "      <th>bici_coordinadas_mercator</th>\n",
       "      <th>bici_dist_total</th>\n",
       "    </tr>\n",
       "  </thead>\n",
       "  <tbody>\n",
       "    <tr>\n",
       "      <th>0</th>\n",
       "      <td>Auditorio Carmen Laforet (Ciudad Lineal)</td>\n",
       "      <td>CALLE JAZMIN 46</td>\n",
       "      <td>40.479608</td>\n",
       "      <td>-3.665799</td>\n",
       "      <td>Centros culturales</td>\n",
       "      <td>POINT (4506169.379345033 -408353.5729058877)</td>\n",
       "      <td>Manuel Caldeiro</td>\n",
       "      <td>Paseo de la Castellana nº 298</td>\n",
       "      <td>40.479380</td>\n",
       "      <td>-3.685320</td>\n",
       "      <td>POINT (4506143.969227422 -410531.117482332)</td>\n",
       "      <td>2177.692829</td>\n",
       "    </tr>\n",
       "    <tr>\n",
       "      <th>1</th>\n",
       "      <td>Auditorio al aire libre. Parque del Calero</td>\n",
       "      <td>CALLE JOSE DEL HIERRO 3</td>\n",
       "      <td>40.436300</td>\n",
       "      <td>-3.650410</td>\n",
       "      <td>Centros culturales</td>\n",
       "      <td>POINT (4501348.276905228 -406636.9344770753)</td>\n",
       "      <td>C.D. Concepción</td>\n",
       "      <td>Calle Jose del Hierro nº 5</td>\n",
       "      <td>40.437151</td>\n",
       "      <td>-3.648359</td>\n",
       "      <td>POINT (4501443.047273415 -406408.1503400214)</td>\n",
       "      <td>247.636031</td>\n",
       "    </tr>\n",
       "    <tr>\n",
       "      <th>2</th>\n",
       "      <td>Auditorio y sala de exposiciones Paco de Lucía...</td>\n",
       "      <td>AVENIDA LAS AGUILAS 2 A</td>\n",
       "      <td>40.385132</td>\n",
       "      <td>-3.761912</td>\n",
       "      <td>Centros culturales</td>\n",
       "      <td>POINT (4495652.310977291 -419075.2884951149)</td>\n",
       "      <td>Caramuel</td>\n",
       "      <td>Calle Caramuel nº 51</td>\n",
       "      <td>40.409136</td>\n",
       "      <td>-3.728534</td>\n",
       "      <td>POINT (4498324.476616229 -415351.7319152072)</td>\n",
       "      <td>4583.158606</td>\n",
       "    </tr>\n",
       "    <tr>\n",
       "      <th>3</th>\n",
       "      <td>Centro Comunitario Casino de la Reina</td>\n",
       "      <td>CALLE CASINO 3</td>\n",
       "      <td>40.406793</td>\n",
       "      <td>-3.704609</td>\n",
       "      <td>Centros culturales</td>\n",
       "      <td>POINT (4498063.582233449 -412682.7875456674)</td>\n",
       "      <td>Embajadores 2</td>\n",
       "      <td>Glorieta de Embajadores nº 2</td>\n",
       "      <td>40.405611</td>\n",
       "      <td>-3.702259</td>\n",
       "      <td>POINT (4497932.008315246 -412420.6948701236)</td>\n",
       "      <td>293.264840</td>\n",
       "    </tr>\n",
       "    <tr>\n",
       "      <th>4</th>\n",
       "      <td>Centro Cultural - Centro Socio Cultural Villa ...</td>\n",
       "      <td>CALLE BOTICA 7 y 10</td>\n",
       "      <td>40.473402</td>\n",
       "      <td>-3.578523</td>\n",
       "      <td>Centros culturales</td>\n",
       "      <td>POINT (4505478.547905593 -398618.6384765698)</td>\n",
       "      <td>Gutierre de Cetina</td>\n",
       "      <td>Calle Gutierre de Cetina nº 77</td>\n",
       "      <td>40.429706</td>\n",
       "      <td>-3.640994</td>\n",
       "      <td>POINT (4500614.284841758 -405586.667644808)</td>\n",
       "      <td>8497.910663</td>\n",
       "    </tr>\n",
       "    <tr>\n",
       "      <th>...</th>\n",
       "      <td>...</td>\n",
       "      <td>...</td>\n",
       "      <td>...</td>\n",
       "      <td>...</td>\n",
       "      <td>...</td>\n",
       "      <td>...</td>\n",
       "      <td>...</td>\n",
       "      <td>...</td>\n",
       "      <td>...</td>\n",
       "      <td>...</td>\n",
       "      <td>...</td>\n",
       "      <td>...</td>\n",
       "    </tr>\n",
       "    <tr>\n",
       "      <th>64</th>\n",
       "      <td>Real Monasterio de las Descalzas Reales</td>\n",
       "      <td>PLAZA DESCALZAS 3</td>\n",
       "      <td>40.418233</td>\n",
       "      <td>-3.706213</td>\n",
       "      <td>Museos</td>\n",
       "      <td>POINT (4499337.1563866 -412861.7774830329)</td>\n",
       "      <td>Plaza de Celenque A</td>\n",
       "      <td>Plaza de Celenque nº 1</td>\n",
       "      <td>40.417370</td>\n",
       "      <td>-3.705779</td>\n",
       "      <td>POINT (4499241.080999179 -412813.3597196624)</td>\n",
       "      <td>107.586058</td>\n",
       "    </tr>\n",
       "    <tr>\n",
       "      <th>65</th>\n",
       "      <td>Templo de Debod</td>\n",
       "      <td>CALLE FERRAZ 1</td>\n",
       "      <td>40.424251</td>\n",
       "      <td>-3.716532</td>\n",
       "      <td>Museos</td>\n",
       "      <td>POINT (4500007.033180737 -414012.8663162367)</td>\n",
       "      <td>Ferraz</td>\n",
       "      <td>Calle Evaristo San Miguel nº 2</td>\n",
       "      <td>40.425394</td>\n",
       "      <td>-3.717045</td>\n",
       "      <td>POINT (4500134.319725253 -414070.0873872822)</td>\n",
       "      <td>139.556854</td>\n",
       "    </tr>\n",
       "    <tr>\n",
       "      <th>66</th>\n",
       "      <td>The Robot Museum (Museo del Robot)</td>\n",
       "      <td>CALLE SERRANO 61 PLANTA BAJA</td>\n",
       "      <td>40.432215</td>\n",
       "      <td>-3.686955</td>\n",
       "      <td>Museos</td>\n",
       "      <td>POINT (4500893.569362991 -410713.5180322552)</td>\n",
       "      <td>Castellana 42</td>\n",
       "      <td>Paseo de la Castellana nº 42</td>\n",
       "      <td>40.433409</td>\n",
       "      <td>-3.687915</td>\n",
       "      <td>POINT (4501026.467520318 -410820.6351983234)</td>\n",
       "      <td>170.692728</td>\n",
       "    </tr>\n",
       "    <tr>\n",
       "      <th>67</th>\n",
       "      <td>Yacimiento paleontológico. Estación de Metro C...</td>\n",
       "      <td>CALLE VIA CARPETANA 141</td>\n",
       "      <td>40.392541</td>\n",
       "      <td>-3.741303</td>\n",
       "      <td>Museos</td>\n",
       "      <td>POINT (4496477.095493491 -416776.1850890592)</td>\n",
       "      <td>Caramuel</td>\n",
       "      <td>Calle Caramuel nº 51</td>\n",
       "      <td>40.409136</td>\n",
       "      <td>-3.728534</td>\n",
       "      <td>POINT (4498324.476616229 -415351.7319152072)</td>\n",
       "      <td>2332.784572</td>\n",
       "    </tr>\n",
       "    <tr>\n",
       "      <th>68</th>\n",
       "      <td>Zapadores Ciudad del Arte</td>\n",
       "      <td>CALLE ANTONIO DE CABEZON 70</td>\n",
       "      <td>40.495728</td>\n",
       "      <td>-3.681812</td>\n",
       "      <td>Museos</td>\n",
       "      <td>POINT (4507963.825545529 -410139.7724019542)</td>\n",
       "      <td>Pedro Rico</td>\n",
       "      <td>Calle Pedro Rico nº 4</td>\n",
       "      <td>40.481086</td>\n",
       "      <td>-3.688463</td>\n",
       "      <td>POINT (4506333.880278716 -410881.7202647883)</td>\n",
       "      <td>1790.868003</td>\n",
       "    </tr>\n",
       "  </tbody>\n",
       "</table>\n",
       "<p>178 rows × 12 columns</p>\n",
       "</div>"
      ],
      "text/plain": [
       "                       organization.organization-name  \\\n",
       "0            Auditorio Carmen Laforet (Ciudad Lineal)   \n",
       "1          Auditorio al aire libre. Parque del Calero   \n",
       "2   Auditorio y sala de exposiciones Paco de Lucía...   \n",
       "3               Centro Comunitario Casino de la Reina   \n",
       "4   Centro Cultural - Centro Socio Cultural Villa ...   \n",
       "..                                                ...   \n",
       "64            Real Monasterio de las Descalzas Reales   \n",
       "65                                    Templo de Debod   \n",
       "66                 The Robot Museum (Museo del Robot)   \n",
       "67  Yacimiento paleontológico. Estación de Metro C...   \n",
       "68                          Zapadores Ciudad del Arte   \n",
       "\n",
       "          address.street-address  location.latitude  location.longitude  \\\n",
       "0                CALLE JAZMIN 46          40.479608           -3.665799   \n",
       "1        CALLE JOSE DEL HIERRO 3          40.436300           -3.650410   \n",
       "2        AVENIDA LAS AGUILAS 2 A          40.385132           -3.761912   \n",
       "3                 CALLE CASINO 3          40.406793           -3.704609   \n",
       "4            CALLE BOTICA 7 y 10          40.473402           -3.578523   \n",
       "..                           ...                ...                 ...   \n",
       "64             PLAZA DESCALZAS 3          40.418233           -3.706213   \n",
       "65                CALLE FERRAZ 1          40.424251           -3.716532   \n",
       "66  CALLE SERRANO 61 PLANTA BAJA          40.432215           -3.686955   \n",
       "67       CALLE VIA CARPETANA 141          40.392541           -3.741303   \n",
       "68   CALLE ANTONIO DE CABEZON 70          40.495728           -3.681812   \n",
       "\n",
       "           Tipo_Centro                          coordinadas_mercator  \\\n",
       "0   Centros culturales  POINT (4506169.379345033 -408353.5729058877)   \n",
       "1   Centros culturales  POINT (4501348.276905228 -406636.9344770753)   \n",
       "2   Centros culturales  POINT (4495652.310977291 -419075.2884951149)   \n",
       "3   Centros culturales  POINT (4498063.582233449 -412682.7875456674)   \n",
       "4   Centros culturales  POINT (4505478.547905593 -398618.6384765698)   \n",
       "..                 ...                                           ...   \n",
       "64              Museos    POINT (4499337.1563866 -412861.7774830329)   \n",
       "65              Museos  POINT (4500007.033180737 -414012.8663162367)   \n",
       "66              Museos  POINT (4500893.569362991 -410713.5180322552)   \n",
       "67              Museos  POINT (4496477.095493491 -416776.1850890592)   \n",
       "68              Museos  POINT (4507963.825545529 -410139.7724019542)   \n",
       "\n",
       "              bici_name                    bici_address   bici_lat  bici_lon  \\\n",
       "0       Manuel Caldeiro   Paseo de la Castellana nº 298  40.479380 -3.685320   \n",
       "1       C.D. Concepción      Calle Jose del Hierro nº 5  40.437151 -3.648359   \n",
       "2              Caramuel            Calle Caramuel nº 51  40.409136 -3.728534   \n",
       "3         Embajadores 2    Glorieta de Embajadores nº 2  40.405611 -3.702259   \n",
       "4    Gutierre de Cetina  Calle Gutierre de Cetina nº 77  40.429706 -3.640994   \n",
       "..                  ...                             ...        ...       ...   \n",
       "64  Plaza de Celenque A          Plaza de Celenque nº 1  40.417370 -3.705779   \n",
       "65               Ferraz  Calle Evaristo San Miguel nº 2  40.425394 -3.717045   \n",
       "66        Castellana 42    Paseo de la Castellana nº 42  40.433409 -3.687915   \n",
       "67             Caramuel            Calle Caramuel nº 51  40.409136 -3.728534   \n",
       "68           Pedro Rico           Calle Pedro Rico nº 4  40.481086 -3.688463   \n",
       "\n",
       "                       bici_coordinadas_mercator  bici_dist_total  \n",
       "0    POINT (4506143.969227422 -410531.117482332)      2177.692829  \n",
       "1   POINT (4501443.047273415 -406408.1503400214)       247.636031  \n",
       "2   POINT (4498324.476616229 -415351.7319152072)      4583.158606  \n",
       "3   POINT (4497932.008315246 -412420.6948701236)       293.264840  \n",
       "4    POINT (4500614.284841758 -405586.667644808)      8497.910663  \n",
       "..                                           ...              ...  \n",
       "64  POINT (4499241.080999179 -412813.3597196624)       107.586058  \n",
       "65  POINT (4500134.319725253 -414070.0873872822)       139.556854  \n",
       "66  POINT (4501026.467520318 -410820.6351983234)       170.692728  \n",
       "67  POINT (4498324.476616229 -415351.7319152072)      2332.784572  \n",
       "68  POINT (4506333.880278716 -410881.7202647883)      1790.868003  \n",
       "\n",
       "[178 rows x 12 columns]"
      ]
     },
     "execution_count": 17,
     "metadata": {},
     "output_type": "execute_result"
    }
   ],
   "source": [
    "df_museo_cc"
   ]
  }
 ],
 "metadata": {
  "kernelspec": {
   "display_name": "Python 3 (ipykernel)",
   "language": "python",
   "name": "python3"
  },
  "language_info": {
   "codemirror_mode": {
    "name": "ipython",
    "version": 3
   },
   "file_extension": ".py",
   "mimetype": "text/x-python",
   "name": "python",
   "nbconvert_exporter": "python",
   "pygments_lexer": "ipython3",
   "version": "3.8.10"
  }
 },
 "nbformat": 4,
 "nbformat_minor": 5
}
