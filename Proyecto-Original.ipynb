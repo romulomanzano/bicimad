{
 "cells": [
  {
   "cell_type": "code",
   "execution_count": 1,
   "id": "9e7f94c5",
   "metadata": {},
   "outputs": [],
   "source": [
    "import pandas as pd\n",
    "import numpy as np\n",
    "import requests\n",
    "import bs4\n",
    "import json\n",
    "import os"
   ]
  },
  {
   "cell_type": "code",
   "execution_count": 2,
   "id": "e217e8c4",
   "metadata": {},
   "outputs": [],
   "source": [
    "from shapely.geometry import Point\n",
    "import geopandas as gpd   \n",
    "\n",
    "def to_mercator(lat, long):\n",
    "    c = gpd.GeoSeries([Point(lat, long)], crs=4326)\n",
    "    c = c.to_crs(3857)\n",
    "    return c\n",
    "\n",
    "def distance_meters(distancia, distancia_2):\n",
    "    return distancia.distance(distancia_2)"
   ]
  },
  {
   "cell_type": "code",
   "execution_count": 3,
   "id": "14c2c5f0",
   "metadata": {},
   "outputs": [],
   "source": [
    "centros_culturales = requests.get('https://datos.madrid.es/egob/catalogo/200304-0-centros-culturales.json')\n",
    "centros_culturales = centros_culturales.json()\n",
    "df_centros_culturales = pd.json_normalize(centros_culturales['@graph'])\n",
    "df_centros_culturales = pd.DataFrame(df_centros_culturales[[\"organization.organization-name\" , \"address.street-address\" , \"location.latitude\" , \"location.longitude\"]])\n",
    "df_centros_culturales = df_centros_culturales.assign(Tipo_Centro = \"Centros culturales\")\n",
    "df_centros_culturales[\"distancia\"] = df_centros_culturales.apply(lambda x : to_mercator(x[\"location.latitude\"],x[\"location.longitude\"]),axis=1)\n",
    "#df_centros_culturales"
   ]
  },
  {
   "cell_type": "code",
   "execution_count": 4,
   "id": "be3f30af",
   "metadata": {},
   "outputs": [],
   "source": [
    "museos = requests.get('https://datos.madrid.es/egob/catalogo/201132-0-museos.json')\n",
    "museos = museos.json()\n",
    "df_museos = pd.json_normalize(museos['@graph'])\n",
    "df_museos = pd.DataFrame(df_museos[[\"organization.organization-name\" , \"address.street-address\" , \"location.latitude\" , \"location.longitude\"]])\n",
    "df_museos = df_museos.assign(Tipo_Centro = \"Museos\")\n",
    "df_museos[\"distancia\"] = df_museos.apply(lambda x : to_mercator(x[\"location.latitude\"],x[\"location.longitude\"]),axis=1)\n",
    "#df_museos"
   ]
  },
  {
   "cell_type": "code",
   "execution_count": 5,
   "id": "45163562",
   "metadata": {},
   "outputs": [],
   "source": [
    "df_museo_cc = pd.concat([df_centros_culturales , df_museos])\n",
    "#df_museo_cc"
   ]
  },
  {
   "cell_type": "code",
   "execution_count": 6,
   "id": "9c447736",
   "metadata": {},
   "outputs": [],
   "source": [
    "df_bicimadstations = pd.read_json(\"../Database/bicimadstations.json\")\n",
    "lat =[float(index[\"geometry_coordinates\"].split(\",\")[0].replace(\"[\", \"\")) for row, index in df_bicimadstations.iterrows()]\n",
    "lon = [float(index[\"geometry_coordinates\"].split(\",\")[1].replace(\"]\",\"\")) for row, index in df_bicimadstations.iterrows()]\n",
    "df_bicimadstations[\"latitud\"] = lat\n",
    "df_bicimadstations[\"longitud\"] = lon\n",
    "df_bicimadstations = pd.DataFrame(df_bicimadstations[[\"name\" , \"address\" , \"latitud\" , \"longitud\"]])\n",
    "df_bicimadstations[\"distancia_bicimad\"] = df_bicimadstations.apply(lambda x : to_mercator(x[\"latitud\"],x[\"longitud\"]),axis=1)\n",
    "#df_bicimadstations"
   ]
  },
  {
   "cell_type": "code",
   "execution_count": 7,
   "id": "7ab41665",
   "metadata": {},
   "outputs": [],
   "source": [
    "df_museo_cc_bicimadstations = pd.merge(df_museo_cc, df_bicimadstations, how = 'cross')\n",
    "df_museo_cc_bicimadstations[\"distancia_total\"] = df_museo_cc_bicimadstations.apply(lambda x : distance_meters(x[\"distancia_bicimad\"],x[\"distancia\"]),axis=1)\n",
    "#df_museo_cc_bicimadstations"
   ]
  },
  {
   "cell_type": "code",
   "execution_count": null,
   "id": "6c315ea5",
   "metadata": {},
   "outputs": [],
   "source": [
    "def Bicimad_mas_cercana():\n",
    "    i = str(input(\"Introduzca lugar\"))\n",
    "    a = df_museo_cc_bicimadstations[df_museo_cc_bicimadstations[\"organization.organization-name\"] == i]\n",
    "    return a.sort_values(by = \"distancia_total\", ascending = True).head(1)\n",
    "Bicimad_mas_cercana()\n",
    "   "
   ]
  },
  {
   "cell_type": "code",
   "execution_count": null,
   "id": "7427e20c",
   "metadata": {},
   "outputs": [],
   "source": [
    "def Bicimad_mas_cercanas_sitios_interes():\n",
    "    i = str(input(\"Todas las estaciones mas cercana a cada sitio\"))\n",
    "    a = df_museo_cc_bicimadstations[df_museo_cc_bicimadstations[\"organization.organization-name\"] == i]\n",
    "    return a.sort_values(by = \"distancia_total\", ascending = True)\n",
    "Bicimad_mas_cercanas_sitios_interes()"
   ]
  },
  {
   "cell_type": "code",
   "execution_count": null,
   "id": "6b18b925",
   "metadata": {},
   "outputs": [],
   "source": [
    "def Bicimad_mas_cercanas_sitios_interes():\n",
    "    \n",
    "    return df_museo_cc_bicimadstations.sort_values(by = \"distancia_total\", ascending = True).groupby('organization.organization-name')['Tipo_Centro','address', 'distancia_total'].nth(0).drop([\"distancia\"], axis = \"columns\")\n",
    "Bicimad_mas_cercanas_sitios_interes"
   ]
  },
  {
   "cell_type": "code",
   "execution_count": null,
   "id": "14ec2cda",
   "metadata": {},
   "outputs": [],
   "source": []
  }
 ],
 "metadata": {
  "kernelspec": {
   "display_name": "Python 3 (ipykernel)",
   "language": "python",
   "name": "python3"
  },
  "language_info": {
   "codemirror_mode": {
    "name": "ipython",
    "version": 3
   },
   "file_extension": ".py",
   "mimetype": "text/x-python",
   "name": "python",
   "nbconvert_exporter": "python",
   "pygments_lexer": "ipython3",
   "version": "3.8.10"
  }
 },
 "nbformat": 4,
 "nbformat_minor": 5
}
